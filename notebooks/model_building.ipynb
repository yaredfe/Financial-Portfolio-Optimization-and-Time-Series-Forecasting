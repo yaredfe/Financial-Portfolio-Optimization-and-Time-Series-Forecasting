{
 "cells": [
  {
   "cell_type": "code",
   "execution_count": 1,
   "id": "e3cb1bd2-2129-4278-8083-22e977d532cc",
   "metadata": {},
   "outputs": [],
   "source": [
    "import pandas as pd\n",
    "import numpy as np\n",
    "import sys\n",
    "sys.path.append(\"c:/users/user/Downloads/film/Financial-Portfolio-Optimization-and-Time-Series-Forecasting/src/\")\n",
    "from modules import (data_preparation_for_model, model_builder, forecasting_utils, portfolio_optimizer, visualization_utils)"
   ]
  },
  {
   "cell_type": "code",
   "execution_count": 2,
   "id": "a67ed142-b5c8-4476-9cab-cc7d10289d81",
   "metadata": {},
   "outputs": [],
   "source": [
    "# Step 1: Load and preprocess data\n",
    "file_path = \"../data/tesla.csv\"\n",
    "columns=[\"Adj Close\",\"Close\",\"High\",\"Low\",\"Open\",\"Volume\",\"Daily Change\",\"Volatility\"]\n",
    "tesla,scaler  = data_preparation_for_model.load_and_scale_data(file_path,columns)\n",
    "X_train, y_train, X_test, y_test = data_preparation_for_model.prepare_train_test_data(tesla)"
   ]
  },
  {
   "cell_type": "code",
   "execution_count": 3,
   "id": "7f904457-ece4-41d4-bc28-4c640012f3c9",
   "metadata": {},
   "outputs": [],
   "source": [
    "\n",
    "X_train = X_train[:, :, 1:].astype(np.float64)\n",
    "y_train = y_train[:, 1:].astype(np.float64)\n",
    "X_test = X_test[:, :, 1:].astype(np.float64)\n",
    "y_test = y_test[:, 1:].astype(np.float64)"
   ]
  },
  {
   "cell_type": "code",
   "execution_count": 4,
   "id": "ff88183f-c064-4f11-a6bb-f0d1e882da99",
   "metadata": {},
   "outputs": [
    {
     "data": {
      "text/plain": [
       "dtype('float64')"
      ]
     },
     "execution_count": 4,
     "metadata": {},
     "output_type": "execute_result"
    }
   ],
   "source": [
    "X_train.dtype\n",
    "y_train.dtype\n",
    "X_test.dtype\n",
    "y_test.dtype"
   ]
  },
  {
   "cell_type": "code",
   "execution_count": 5,
   "id": "715b3368-81c5-43e2-bd48-6592bb4db28a",
   "metadata": {},
   "outputs": [
    {
     "name": "stderr",
     "output_type": "stream",
     "text": [
      "C:\\Users\\User\\Downloads\\film\\Financial-Portfolio-Optimization-and-Time-Series-Forecasting\\venv\\Lib\\site-packages\\keras\\src\\layers\\rnn\\rnn.py:204: UserWarning: Do not pass an `input_shape`/`input_dim` argument to a layer. When using Sequential models, prefer using an `Input(shape)` object as the first layer in the model instead.\n",
      "  super().__init__(**kwargs)\n"
     ]
    },
    {
     "name": "stdout",
     "output_type": "stream",
     "text": [
      "Epoch 1/20\n",
      "\u001b[1m60/60\u001b[0m \u001b[32m━━━━━━━━━━━━━━━━━━━━\u001b[0m\u001b[37m\u001b[0m \u001b[1m7s\u001b[0m 43ms/step - loss: 0.0548\n",
      "Epoch 2/20\n",
      "\u001b[1m60/60\u001b[0m \u001b[32m━━━━━━━━━━━━━━━━━━━━\u001b[0m\u001b[37m\u001b[0m \u001b[1m2s\u001b[0m 41ms/step - loss: 0.0316\n",
      "Epoch 3/20\n",
      "\u001b[1m60/60\u001b[0m \u001b[32m━━━━━━━━━━━━━━━━━━━━\u001b[0m\u001b[37m\u001b[0m \u001b[1m3s\u001b[0m 42ms/step - loss: 0.0324\n",
      "Epoch 4/20\n",
      "\u001b[1m60/60\u001b[0m \u001b[32m━━━━━━━━━━━━━━━━━━━━\u001b[0m\u001b[37m\u001b[0m \u001b[1m2s\u001b[0m 40ms/step - loss: 0.0327\n",
      "Epoch 5/20\n",
      "\u001b[1m60/60\u001b[0m \u001b[32m━━━━━━━━━━━━━━━━━━━━\u001b[0m\u001b[37m\u001b[0m \u001b[1m2s\u001b[0m 41ms/step - loss: 0.0318\n",
      "Epoch 6/20\n",
      "\u001b[1m60/60\u001b[0m \u001b[32m━━━━━━━━━━━━━━━━━━━━\u001b[0m\u001b[37m\u001b[0m \u001b[1m3s\u001b[0m 42ms/step - loss: 0.0315\n",
      "Epoch 7/20\n",
      "\u001b[1m60/60\u001b[0m \u001b[32m━━━━━━━━━━━━━━━━━━━━\u001b[0m\u001b[37m\u001b[0m \u001b[1m3s\u001b[0m 42ms/step - loss: 0.0321\n",
      "Epoch 8/20\n",
      "\u001b[1m60/60\u001b[0m \u001b[32m━━━━━━━━━━━━━━━━━━━━\u001b[0m\u001b[37m\u001b[0m \u001b[1m3s\u001b[0m 41ms/step - loss: 0.0316\n",
      "Epoch 9/20\n",
      "\u001b[1m60/60\u001b[0m \u001b[32m━━━━━━━━━━━━━━━━━━━━\u001b[0m\u001b[37m\u001b[0m \u001b[1m3s\u001b[0m 41ms/step - loss: 0.0322\n",
      "Epoch 10/20\n",
      "\u001b[1m60/60\u001b[0m \u001b[32m━━━━━━━━━━━━━━━━━━━━\u001b[0m\u001b[37m\u001b[0m \u001b[1m3s\u001b[0m 41ms/step - loss: 0.0317\n",
      "Epoch 11/20\n",
      "\u001b[1m60/60\u001b[0m \u001b[32m━━━━━━━━━━━━━━━━━━━━\u001b[0m\u001b[37m\u001b[0m \u001b[1m3s\u001b[0m 42ms/step - loss: 0.0315\n",
      "Epoch 12/20\n",
      "\u001b[1m60/60\u001b[0m \u001b[32m━━━━━━━━━━━━━━━━━━━━\u001b[0m\u001b[37m\u001b[0m \u001b[1m3s\u001b[0m 42ms/step - loss: 0.0318\n",
      "Epoch 13/20\n",
      "\u001b[1m60/60\u001b[0m \u001b[32m━━━━━━━━━━━━━━━━━━━━\u001b[0m\u001b[37m\u001b[0m \u001b[1m3s\u001b[0m 42ms/step - loss: 0.0315\n",
      "Epoch 14/20\n",
      "\u001b[1m60/60\u001b[0m \u001b[32m━━━━━━━━━━━━━━━━━━━━\u001b[0m\u001b[37m\u001b[0m \u001b[1m3s\u001b[0m 42ms/step - loss: 0.0321\n",
      "Epoch 15/20\n",
      "\u001b[1m60/60\u001b[0m \u001b[32m━━━━━━━━━━━━━━━━━━━━\u001b[0m\u001b[37m\u001b[0m \u001b[1m2s\u001b[0m 40ms/step - loss: 0.0318\n",
      "Epoch 16/20\n",
      "\u001b[1m60/60\u001b[0m \u001b[32m━━━━━━━━━━━━━━━━━━━━\u001b[0m\u001b[37m\u001b[0m \u001b[1m3s\u001b[0m 42ms/step - loss: 0.0315\n",
      "Epoch 17/20\n",
      "\u001b[1m60/60\u001b[0m \u001b[32m━━━━━━━━━━━━━━━━━━━━\u001b[0m\u001b[37m\u001b[0m \u001b[1m3s\u001b[0m 42ms/step - loss: 0.0317\n",
      "Epoch 18/20\n",
      "\u001b[1m60/60\u001b[0m \u001b[32m━━━━━━━━━━━━━━━━━━━━\u001b[0m\u001b[37m\u001b[0m \u001b[1m3s\u001b[0m 43ms/step - loss: 0.0314\n",
      "Epoch 19/20\n",
      "\u001b[1m60/60\u001b[0m \u001b[32m━━━━━━━━━━━━━━━━━━━━\u001b[0m\u001b[37m\u001b[0m \u001b[1m3s\u001b[0m 43ms/step - loss: 0.0320\n",
      "Epoch 20/20\n",
      "\u001b[1m60/60\u001b[0m \u001b[32m━━━━━━━━━━━━━━━━━━━━\u001b[0m\u001b[37m\u001b[0m \u001b[1m3s\u001b[0m 43ms/step - loss: 0.0324\n"
     ]
    }
   ],
   "source": [
    "# Step 2: Build, train, and evaluate LSTM model\n",
    "input_shape = (1, X_train.shape[2])\n",
    "model = model_builder.build_lstm_model(input_shape)\n",
    "model = model_builder.train_lstm_model(model, X_train, y_train)\n"
   ]
  },
  {
   "cell_type": "code",
   "execution_count": 7,
   "id": "61f95093-29d7-4789-88a7-962465013baf",
   "metadata": {},
   "outputs": [
    {
     "name": "stdout",
     "output_type": "stream",
     "text": [
      "\u001b[1m14/14\u001b[0m \u001b[32m━━━━━━━━━━━━━━━━━━━━\u001b[0m\u001b[37m\u001b[0m \u001b[1m0s\u001b[0m 20ms/step\n"
     ]
    },
    {
     "ename": "ValueError",
     "evalue": "cannot reshape array of size 434 into shape (8)",
     "output_type": "error",
     "traceback": [
      "\u001b[1;31m---------------------------------------------------------------------------\u001b[0m",
      "\u001b[1;31mValueError\u001b[0m                                Traceback (most recent call last)",
      "Cell \u001b[1;32mIn[7], line 3\u001b[0m\n\u001b[0;32m      1\u001b[0m \u001b[38;5;66;03m# Step 3: Make predictions and visualize\u001b[39;00m\n\u001b[0;32m      2\u001b[0m y_pred \u001b[38;5;241m=\u001b[39m forecasting_utils\u001b[38;5;241m.\u001b[39mmake_predictions(model, X_test, scaler)\n\u001b[1;32m----> 3\u001b[0m y_pred \u001b[38;5;241m=\u001b[39m \u001b[43my_pred\u001b[49m\u001b[38;5;241;43m.\u001b[39;49m\u001b[43mreshape\u001b[49m\u001b[43m(\u001b[49m\u001b[38;5;241;43m-\u001b[39;49m\u001b[38;5;241;43m1\u001b[39;49m\u001b[43m,\u001b[49m\u001b[43m \u001b[49m\u001b[38;5;241;43m8\u001b[39;49m\u001b[43m)\u001b[49m\n\u001b[0;32m      4\u001b[0m y_test \u001b[38;5;241m=\u001b[39m y_test\u001b[38;5;241m.\u001b[39mreshape(\u001b[38;5;241m-\u001b[39m\u001b[38;5;241m1\u001b[39m, \u001b[38;5;241m8\u001b[39m)\n\u001b[0;32m      5\u001b[0m y_test \u001b[38;5;241m=\u001b[39m scaler\u001b[38;5;241m.\u001b[39minverse_transform(y_test)\n",
      "\u001b[1;31mValueError\u001b[0m: cannot reshape array of size 434 into shape (8)"
     ]
    }
   ],
   "source": [
    "# Step 3: Make predictions and visualize\n",
    "y_pred = forecasting_utils.make_predictions(model, X_test, scaler)\n",
    "y_pred = y_pred.reshape(-1, 8)\n",
    "y_test = y_test.reshape(-1, 8)\n",
    "y_test = scaler.inverse_transform(y_test)\n",
    "visualization_utils.plot_predictions(df, int(len(df) * 0.8), y_pred, y_test)\n"
   ]
  },
  {
   "cell_type": "code",
   "execution_count": null,
   "id": "6eddc76b-b396-458b-88e9-526072561844",
   "metadata": {},
   "outputs": [],
   "source": [
    "# Step 4: Forecast future data\n",
    "last_sequence = X_test[-1]\n",
    "future_predictions = forecasting_utils.forecast_future(model, last_sequence, future_steps=180, scaler=scaler)\n",
    "future_dates = pd.date_range(df.index[-1], periods=180, freq='B')\n",
    "rmse = np.sqrt(np.mean((y_test - y_pred)**2))\n",
    "visualization_utils.plot_future_forecast(df, int(len(df) * 0.8), y_pred, future_predictions, future_dates, rmse)\n"
   ]
  },
  {
   "cell_type": "code",
   "execution_count": null,
   "id": "750fe8c6-c39c-4fa1-a10f-8264f1301509",
   "metadata": {},
   "outputs": [],
   "source": [
    "# Step 5: Portfolio Optimization\n",
    "# Load forecasts for other assets and optimize portfolio\n",
    "# For example: future_df = pd.DataFrame({'TSLA': future_predictions.flatten(), 'BND': bnd_forecast, 'SPY': spy_forecast})\n",
    "# mean_returns, cov_matrix = portfolio_optimizer.calculate_returns_and_covariance(future_df)\n",
    "# optimal_weights = portfolio_optimizer.optimize_portfolio(mean_returns, cov_matrix, num_assets=3)\n",
    "# print(\"Optimal Weights:\", optimal_weights)"
   ]
  }
 ],
 "metadata": {
  "kernelspec": {
   "display_name": "Python 3 (ipykernel)",
   "language": "python",
   "name": "python3"
  },
  "language_info": {
   "codemirror_mode": {
    "name": "ipython",
    "version": 3
   },
   "file_extension": ".py",
   "mimetype": "text/x-python",
   "name": "python",
   "nbconvert_exporter": "python",
   "pygments_lexer": "ipython3",
   "version": "3.11.9"
  }
 },
 "nbformat": 4,
 "nbformat_minor": 5
}
